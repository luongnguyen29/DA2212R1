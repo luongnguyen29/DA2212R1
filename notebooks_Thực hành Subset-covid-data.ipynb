{
  "metadata": {
    "language_info": {
      "codemirror_mode": {
        "name": "python",
        "version": 3
      },
      "file_extension": ".py",
      "mimetype": "text/x-python",
      "name": "python",
      "nbconvert_exporter": "python",
      "pygments_lexer": "ipython3",
      "version": "3.8"
    },
    "kernelspec": {
      "name": "python",
      "display_name": "Python (Pyodide)",
      "language": "python"
    }
  },
  "nbformat_minor": 4,
  "nbformat": 4,
  "cells": [
    {
      "cell_type": "code",
      "source": "import pandas as pd",
      "metadata": {
        "trusted": true
      },
      "execution_count": 1,
      "outputs": []
    },
    {
      "cell_type": "code",
      "source": "data = pd.read_csv('subset-covid-data.csv', encoding = 'ISO-8859-1')\n# hiển thị 5 dòng dữ liệu đầu tiên\ndata.head()",
      "metadata": {
        "trusted": true
      },
      "execution_count": 2,
      "outputs": [
        {
          "execution_count": 2,
          "output_type": "execute_result",
          "data": {
            "text/plain": "       country continent        date  day  month  year  cases  deaths  \\\n0  Afghanistan      Asia  2020-04-12   12      4  2020     34       3   \n1      Albania    Europe  2020-04-12   12      4  2020     17       0   \n2      Algeria    Africa  2020-04-12   12      4  2020     64      19   \n3      Andorra    Europe  2020-04-12   12      4  2020     21       2   \n4       Angola    Africa  2020-04-12   12      4  2020      0       0   \n\n  country_code  population  \n0          AFG  37172386.0  \n1          ALB   2866376.0  \n2          DZA  42228429.0  \n3          AND     77006.0  \n4          AGO  30809762.0  ",
            "text/html": "<div>\n<style scoped>\n    .dataframe tbody tr th:only-of-type {\n        vertical-align: middle;\n    }\n\n    .dataframe tbody tr th {\n        vertical-align: top;\n    }\n\n    .dataframe thead th {\n        text-align: right;\n    }\n</style>\n<table border=\"1\" class=\"dataframe\">\n  <thead>\n    <tr style=\"text-align: right;\">\n      <th></th>\n      <th>country</th>\n      <th>continent</th>\n      <th>date</th>\n      <th>day</th>\n      <th>month</th>\n      <th>year</th>\n      <th>cases</th>\n      <th>deaths</th>\n      <th>country_code</th>\n      <th>population</th>\n    </tr>\n  </thead>\n  <tbody>\n    <tr>\n      <th>0</th>\n      <td>Afghanistan</td>\n      <td>Asia</td>\n      <td>2020-04-12</td>\n      <td>12</td>\n      <td>4</td>\n      <td>2020</td>\n      <td>34</td>\n      <td>3</td>\n      <td>AFG</td>\n      <td>37172386.0</td>\n    </tr>\n    <tr>\n      <th>1</th>\n      <td>Albania</td>\n      <td>Europe</td>\n      <td>2020-04-12</td>\n      <td>12</td>\n      <td>4</td>\n      <td>2020</td>\n      <td>17</td>\n      <td>0</td>\n      <td>ALB</td>\n      <td>2866376.0</td>\n    </tr>\n    <tr>\n      <th>2</th>\n      <td>Algeria</td>\n      <td>Africa</td>\n      <td>2020-04-12</td>\n      <td>12</td>\n      <td>4</td>\n      <td>2020</td>\n      <td>64</td>\n      <td>19</td>\n      <td>DZA</td>\n      <td>42228429.0</td>\n    </tr>\n    <tr>\n      <th>3</th>\n      <td>Andorra</td>\n      <td>Europe</td>\n      <td>2020-04-12</td>\n      <td>12</td>\n      <td>4</td>\n      <td>2020</td>\n      <td>21</td>\n      <td>2</td>\n      <td>AND</td>\n      <td>77006.0</td>\n    </tr>\n    <tr>\n      <th>4</th>\n      <td>Angola</td>\n      <td>Africa</td>\n      <td>2020-04-12</td>\n      <td>12</td>\n      <td>4</td>\n      <td>2020</td>\n      <td>0</td>\n      <td>0</td>\n      <td>AGO</td>\n      <td>30809762.0</td>\n    </tr>\n  </tbody>\n</table>\n</div>"
          },
          "metadata": {}
        }
      ]
    },
    {
      "cell_type": "code",
      "source": "# Số lượng dòng và cột của bộ dữ liệu\ndata.info()",
      "metadata": {
        "trusted": true
      },
      "execution_count": 3,
      "outputs": [
        {
          "name": "stdout",
          "text": "<class 'pandas.core.frame.DataFrame'>\nRangeIndex: 206 entries, 0 to 205\nData columns (total 10 columns):\n #   Column        Non-Null Count  Dtype  \n---  ------        --------------  -----  \n 0   country       206 non-null    object \n 1   continent     206 non-null    object \n 2   date          206 non-null    object \n 3   day           206 non-null    int64  \n 4   month         206 non-null    int64  \n 5   year          206 non-null    int64  \n 6   cases         206 non-null    int64  \n 7   deaths        206 non-null    int64  \n 8   country_code  202 non-null    object \n 9   population    202 non-null    float64\ndtypes: float64(1), int64(5), object(4)\nmemory usage: 12.9+ KB\n",
          "output_type": "stream"
        }
      ]
    },
    {
      "cell_type": "code",
      "source": "# Tìm hiểu xem dữ liệu được thống kê cho những ngày nào\ndata.date.value_counts()",
      "metadata": {
        "trusted": true
      },
      "execution_count": 4,
      "outputs": [
        {
          "execution_count": 4,
          "output_type": "execute_result",
          "data": {
            "text/plain": "2020-04-12    204\n2020-01-18      1\n2020-04-11      1\nName: date, dtype: int64"
          },
          "metadata": {}
        }
      ]
    },
    {
      "cell_type": "code",
      "source": "# lọc dữ liệu nhiễu:\ncleaned_data = data[data.date == '2020-04-12']",
      "metadata": {
        "trusted": true
      },
      "execution_count": 5,
      "outputs": []
    },
    {
      "cell_type": "code",
      "source": "# Vẽ biểu đồ phân bố số lượng ca mắc mới ở các quốc gia\nprint(\"trung bình số ca mắc mới: \" + str(cleaned_data.cases.mean()))\nprint(\"trung bị của số ca mắc mới: \" + str(cleaned_data.cases.median()))\n\nimport matplotlib.pyplot as plt\nplt.hist(cleaned_data.cases, bins = 200)\nplt.title(\"Phân bố số ca mắc mới\")\nplt.xlabel(\"Số lượng ca mắc mới\")\nplt.ylabel(\"Số lượng quốc gia\")",
      "metadata": {
        "trusted": true
      },
      "execution_count": 7,
      "outputs": [
        {
          "name": "stdout",
          "text": "trung bình số ca mắc mới: 376.8186274509804\ntrung bị của số ca mắc mới: 11.5\n",
          "output_type": "stream"
        },
        {
          "execution_count": 7,
          "output_type": "execute_result",
          "data": {
            "text/plain": "Text(0, 0.5, 'Số lượng quốc gia')"
          },
          "metadata": {}
        }
      ]
    },
    {
      "cell_type": "code",
      "source": "#Tổng số ca mắc mới, số ca tử vong ở từng châu lục\nprint(\"Tổng số ca nhiễm và số ca của các châu lục\")\ncleaned_data.groupby('continent')['cases','deaths'].sum()",
      "metadata": {
        "trusted": true
      },
      "execution_count": 8,
      "outputs": [
        {
          "name": "stdout",
          "text": "Tổng số ca nhiễm và số ca của các châu lục\n",
          "output_type": "stream"
        },
        {
          "name": "stderr",
          "text": "<ipython-input-8-095b9a9aae5d>:3: FutureWarning: Indexing with multiple keys (implicitly converted to a tuple of keys) will be deprecated, use a list instead.\n  cleaned_data.groupby('continent')['cases','deaths'].sum()\n",
          "output_type": "stream"
        },
        {
          "execution_count": 8,
          "output_type": "execute_result",
          "data": {
            "text/plain": "           cases  deaths\ncontinent               \nAfrica       714      52\nAmerica    33519    2111\nAsia       12979     383\nEurope     29591    2966\nOceania       68       4",
            "text/html": "<div>\n<style scoped>\n    .dataframe tbody tr th:only-of-type {\n        vertical-align: middle;\n    }\n\n    .dataframe tbody tr th {\n        vertical-align: top;\n    }\n\n    .dataframe thead th {\n        text-align: right;\n    }\n</style>\n<table border=\"1\" class=\"dataframe\">\n  <thead>\n    <tr style=\"text-align: right;\">\n      <th></th>\n      <th>cases</th>\n      <th>deaths</th>\n    </tr>\n    <tr>\n      <th>continent</th>\n      <th></th>\n      <th></th>\n    </tr>\n  </thead>\n  <tbody>\n    <tr>\n      <th>Africa</th>\n      <td>714</td>\n      <td>52</td>\n    </tr>\n    <tr>\n      <th>America</th>\n      <td>33519</td>\n      <td>2111</td>\n    </tr>\n    <tr>\n      <th>Asia</th>\n      <td>12979</td>\n      <td>383</td>\n    </tr>\n    <tr>\n      <th>Europe</th>\n      <td>29591</td>\n      <td>2966</td>\n    </tr>\n    <tr>\n      <th>Oceania</th>\n      <td>68</td>\n      <td>4</td>\n    </tr>\n  </tbody>\n</table>\n</div>"
          },
          "metadata": {}
        }
      ]
    },
    {
      "cell_type": "code",
      "source": "#Top 5 quốc gia có số ca nhiễm mới cao nhất\nprint(\"5 quốc gia có số ca nhiễm mới cao nhất\")\ndata = data.sort_values('cases', ascending = False)\ndata.head()",
      "metadata": {
        "trusted": true
      },
      "execution_count": 9,
      "outputs": [
        {
          "name": "stdout",
          "text": "5 quốc gia có số ca nhiễm mới cao nhất\n",
          "output_type": "stream"
        },
        {
          "execution_count": 9,
          "output_type": "execute_result",
          "data": {
            "text/plain": "                      country continent        date  day  month  year  cases  \\\n198  United_States_of_America   America  2020-04-12   12      4  2020  28391   \n195            United_Kingdom    Europe  2020-04-12   12      4  2020   8719   \n190                    Turkey      Asia  2020-04-12   12      4  2020   5138   \n98                      Italy    Europe  2020-04-12   12      4  2020   4694   \n177                     Spain    Europe  2020-04-11   11      4  2020   4550   \n\n     deaths country_code   population  \n198    1831          USA  327167434.0  \n195     839          GBR   66488991.0  \n190      95          TUR   82319724.0  \n98      619          ITA   60431283.0  \n177     605          ESP   46723749.0  ",
            "text/html": "<div>\n<style scoped>\n    .dataframe tbody tr th:only-of-type {\n        vertical-align: middle;\n    }\n\n    .dataframe tbody tr th {\n        vertical-align: top;\n    }\n\n    .dataframe thead th {\n        text-align: right;\n    }\n</style>\n<table border=\"1\" class=\"dataframe\">\n  <thead>\n    <tr style=\"text-align: right;\">\n      <th></th>\n      <th>country</th>\n      <th>continent</th>\n      <th>date</th>\n      <th>day</th>\n      <th>month</th>\n      <th>year</th>\n      <th>cases</th>\n      <th>deaths</th>\n      <th>country_code</th>\n      <th>population</th>\n    </tr>\n  </thead>\n  <tbody>\n    <tr>\n      <th>198</th>\n      <td>United_States_of_America</td>\n      <td>America</td>\n      <td>2020-04-12</td>\n      <td>12</td>\n      <td>4</td>\n      <td>2020</td>\n      <td>28391</td>\n      <td>1831</td>\n      <td>USA</td>\n      <td>327167434.0</td>\n    </tr>\n    <tr>\n      <th>195</th>\n      <td>United_Kingdom</td>\n      <td>Europe</td>\n      <td>2020-04-12</td>\n      <td>12</td>\n      <td>4</td>\n      <td>2020</td>\n      <td>8719</td>\n      <td>839</td>\n      <td>GBR</td>\n      <td>66488991.0</td>\n    </tr>\n    <tr>\n      <th>190</th>\n      <td>Turkey</td>\n      <td>Asia</td>\n      <td>2020-04-12</td>\n      <td>12</td>\n      <td>4</td>\n      <td>2020</td>\n      <td>5138</td>\n      <td>95</td>\n      <td>TUR</td>\n      <td>82319724.0</td>\n    </tr>\n    <tr>\n      <th>98</th>\n      <td>Italy</td>\n      <td>Europe</td>\n      <td>2020-04-12</td>\n      <td>12</td>\n      <td>4</td>\n      <td>2020</td>\n      <td>4694</td>\n      <td>619</td>\n      <td>ITA</td>\n      <td>60431283.0</td>\n    </tr>\n    <tr>\n      <th>177</th>\n      <td>Spain</td>\n      <td>Europe</td>\n      <td>2020-04-11</td>\n      <td>11</td>\n      <td>4</td>\n      <td>2020</td>\n      <td>4550</td>\n      <td>605</td>\n      <td>ESP</td>\n      <td>46723749.0</td>\n    </tr>\n  </tbody>\n</table>\n</div>"
          },
          "metadata": {}
        }
      ]
    },
    {
      "cell_type": "code",
      "source": "#op 5 quốc gia có số tử vong cao nhất\nprint(\"5 quốc gia có số ca tử vong cao nhất\")\ndata = data.sort_values('deaths', ascending = False)\ndata.head()",
      "metadata": {
        "trusted": true
      },
      "execution_count": 13,
      "outputs": [
        {
          "name": "stdout",
          "text": "5 quốc gia có số ca tử vong cao nhất\n",
          "output_type": "stream"
        },
        {
          "execution_count": 13,
          "output_type": "execute_result",
          "data": {
            "text/plain": "                      country continent        date  day  month  year  cases  \\\n198  United_States_of_America   America  2020-04-12   12      4  2020  28391   \n195            United_Kingdom    Europe  2020-04-12   12      4  2020   8719   \n69                     France    Europe  2020-04-12   12      4  2020   3114   \n98                      Italy    Europe  2020-04-12   12      4  2020   4694   \n177                     Spain    Europe  2020-04-11   11      4  2020   4550   \n\n     deaths country_code   population  \n198    1831          USA  327167434.0  \n195     839          GBR   66488991.0  \n69      635          FRA   66987244.0  \n98      619          ITA   60431283.0  \n177     605          ESP   46723749.0  ",
            "text/html": "<div>\n<style scoped>\n    .dataframe tbody tr th:only-of-type {\n        vertical-align: middle;\n    }\n\n    .dataframe tbody tr th {\n        vertical-align: top;\n    }\n\n    .dataframe thead th {\n        text-align: right;\n    }\n</style>\n<table border=\"1\" class=\"dataframe\">\n  <thead>\n    <tr style=\"text-align: right;\">\n      <th></th>\n      <th>country</th>\n      <th>continent</th>\n      <th>date</th>\n      <th>day</th>\n      <th>month</th>\n      <th>year</th>\n      <th>cases</th>\n      <th>deaths</th>\n      <th>country_code</th>\n      <th>population</th>\n    </tr>\n  </thead>\n  <tbody>\n    <tr>\n      <th>198</th>\n      <td>United_States_of_America</td>\n      <td>America</td>\n      <td>2020-04-12</td>\n      <td>12</td>\n      <td>4</td>\n      <td>2020</td>\n      <td>28391</td>\n      <td>1831</td>\n      <td>USA</td>\n      <td>327167434.0</td>\n    </tr>\n    <tr>\n      <th>195</th>\n      <td>United_Kingdom</td>\n      <td>Europe</td>\n      <td>2020-04-12</td>\n      <td>12</td>\n      <td>4</td>\n      <td>2020</td>\n      <td>8719</td>\n      <td>839</td>\n      <td>GBR</td>\n      <td>66488991.0</td>\n    </tr>\n    <tr>\n      <th>69</th>\n      <td>France</td>\n      <td>Europe</td>\n      <td>2020-04-12</td>\n      <td>12</td>\n      <td>4</td>\n      <td>2020</td>\n      <td>3114</td>\n      <td>635</td>\n      <td>FRA</td>\n      <td>66987244.0</td>\n    </tr>\n    <tr>\n      <th>98</th>\n      <td>Italy</td>\n      <td>Europe</td>\n      <td>2020-04-12</td>\n      <td>12</td>\n      <td>4</td>\n      <td>2020</td>\n      <td>4694</td>\n      <td>619</td>\n      <td>ITA</td>\n      <td>60431283.0</td>\n    </tr>\n    <tr>\n      <th>177</th>\n      <td>Spain</td>\n      <td>Europe</td>\n      <td>2020-04-11</td>\n      <td>11</td>\n      <td>4</td>\n      <td>2020</td>\n      <td>4550</td>\n      <td>605</td>\n      <td>ESP</td>\n      <td>46723749.0</td>\n    </tr>\n  </tbody>\n</table>\n</div>"
          },
          "metadata": {}
        }
      ]
    }
  ]
}