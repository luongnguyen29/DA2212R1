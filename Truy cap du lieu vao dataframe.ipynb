{
  "metadata": {
    "language_info": {
      "codemirror_mode": {
        "name": "python",
        "version": 3
      },
      "file_extension": ".py",
      "mimetype": "text/x-python",
      "name": "python",
      "nbconvert_exporter": "python",
      "pygments_lexer": "ipython3",
      "version": "3.8"
    },
    "kernelspec": {
      "name": "python",
      "display_name": "Python (Pyodide)",
      "language": "python"
    }
  },
  "nbformat_minor": 4,
  "nbformat": 4,
  "cells": [
    {
      "cell_type": "code",
      "source": "import pandas as pd\ndf = pd.read_csv('FoodPrice_in_Turkey.csv')\ndf.head()",
      "metadata": {
        "trusted": true
      },
      "execution_count": 1,
      "outputs": [
        {
          "execution_count": 1,
          "output_type": "execute_result",
          "data": {
            "text/plain": "              Place  ProductId    ProductName  UmId UmName  Month  Year  \\\n0  National Average         52  Rice - Retail     5     KG      5  2013   \n1  National Average         52  Rice - Retail     5     KG      6  2013   \n2  National Average         52  Rice - Retail     5     KG     11  2013   \n3  National Average         52  Rice - Retail     5     KG     12  2013   \n4  National Average         52  Rice - Retail     5     KG      1  2014   \n\n    Price  \n0  4.4920  \n1  4.5786  \n2  4.7865  \n3  5.1337  \n4  5.5099  ",
            "text/html": "<div>\n<style scoped>\n    .dataframe tbody tr th:only-of-type {\n        vertical-align: middle;\n    }\n\n    .dataframe tbody tr th {\n        vertical-align: top;\n    }\n\n    .dataframe thead th {\n        text-align: right;\n    }\n</style>\n<table border=\"1\" class=\"dataframe\">\n  <thead>\n    <tr style=\"text-align: right;\">\n      <th></th>\n      <th>Place</th>\n      <th>ProductId</th>\n      <th>ProductName</th>\n      <th>UmId</th>\n      <th>UmName</th>\n      <th>Month</th>\n      <th>Year</th>\n      <th>Price</th>\n    </tr>\n  </thead>\n  <tbody>\n    <tr>\n      <th>0</th>\n      <td>National Average</td>\n      <td>52</td>\n      <td>Rice - Retail</td>\n      <td>5</td>\n      <td>KG</td>\n      <td>5</td>\n      <td>2013</td>\n      <td>4.4920</td>\n    </tr>\n    <tr>\n      <th>1</th>\n      <td>National Average</td>\n      <td>52</td>\n      <td>Rice - Retail</td>\n      <td>5</td>\n      <td>KG</td>\n      <td>6</td>\n      <td>2013</td>\n      <td>4.5786</td>\n    </tr>\n    <tr>\n      <th>2</th>\n      <td>National Average</td>\n      <td>52</td>\n      <td>Rice - Retail</td>\n      <td>5</td>\n      <td>KG</td>\n      <td>11</td>\n      <td>2013</td>\n      <td>4.7865</td>\n    </tr>\n    <tr>\n      <th>3</th>\n      <td>National Average</td>\n      <td>52</td>\n      <td>Rice - Retail</td>\n      <td>5</td>\n      <td>KG</td>\n      <td>12</td>\n      <td>2013</td>\n      <td>5.1337</td>\n    </tr>\n    <tr>\n      <th>4</th>\n      <td>National Average</td>\n      <td>52</td>\n      <td>Rice - Retail</td>\n      <td>5</td>\n      <td>KG</td>\n      <td>1</td>\n      <td>2014</td>\n      <td>5.5099</td>\n    </tr>\n  </tbody>\n</table>\n</div>"
          },
          "metadata": {}
        }
      ]
    },
    {
      "cell_type": "code",
      "source": "#Sử dụng phương thức iloc để truy cập dữ liệu\n# Truy cập dòng có chỉ số 3 của dữ liệu\ntg = df.iloc[3]\ntg",
      "metadata": {
        "trusted": true
      },
      "execution_count": 2,
      "outputs": [
        {
          "execution_count": 2,
          "output_type": "execute_result",
          "data": {
            "text/plain": "Place          National Average\nProductId                    52\nProductName       Rice - Retail\nUmId                          5\nUmName                       KG\nMonth                        12\nYear                       2013\nPrice                    5.1337\nName: 3, dtype: object"
          },
          "metadata": {}
        }
      ]
    },
    {
      "cell_type": "code",
      "source": "# Truy cập các dòng có chỉ số liên tục từ 3 tới 8 của dữ liệu\ntg = df.iloc[3:8]\ntg",
      "metadata": {
        "trusted": true
      },
      "execution_count": 3,
      "outputs": [
        {
          "execution_count": 3,
          "output_type": "execute_result",
          "data": {
            "text/plain": "              Place  ProductId    ProductName  UmId UmName  Month  Year  \\\n3  National Average         52  Rice - Retail     5     KG     12  2013   \n4  National Average         52  Rice - Retail     5     KG      1  2014   \n5  National Average         52  Rice - Retail     5     KG      2  2014   \n6  National Average         52  Rice - Retail     5     KG      3  2014   \n7  National Average         52  Rice - Retail     5     KG      5  2014   \n\n    Price  \n3  5.1337  \n4  5.5099  \n5  5.8146  \n6  6.0014  \n7  6.3202  ",
            "text/html": "<div>\n<style scoped>\n    .dataframe tbody tr th:only-of-type {\n        vertical-align: middle;\n    }\n\n    .dataframe tbody tr th {\n        vertical-align: top;\n    }\n\n    .dataframe thead th {\n        text-align: right;\n    }\n</style>\n<table border=\"1\" class=\"dataframe\">\n  <thead>\n    <tr style=\"text-align: right;\">\n      <th></th>\n      <th>Place</th>\n      <th>ProductId</th>\n      <th>ProductName</th>\n      <th>UmId</th>\n      <th>UmName</th>\n      <th>Month</th>\n      <th>Year</th>\n      <th>Price</th>\n    </tr>\n  </thead>\n  <tbody>\n    <tr>\n      <th>3</th>\n      <td>National Average</td>\n      <td>52</td>\n      <td>Rice - Retail</td>\n      <td>5</td>\n      <td>KG</td>\n      <td>12</td>\n      <td>2013</td>\n      <td>5.1337</td>\n    </tr>\n    <tr>\n      <th>4</th>\n      <td>National Average</td>\n      <td>52</td>\n      <td>Rice - Retail</td>\n      <td>5</td>\n      <td>KG</td>\n      <td>1</td>\n      <td>2014</td>\n      <td>5.5099</td>\n    </tr>\n    <tr>\n      <th>5</th>\n      <td>National Average</td>\n      <td>52</td>\n      <td>Rice - Retail</td>\n      <td>5</td>\n      <td>KG</td>\n      <td>2</td>\n      <td>2014</td>\n      <td>5.8146</td>\n    </tr>\n    <tr>\n      <th>6</th>\n      <td>National Average</td>\n      <td>52</td>\n      <td>Rice - Retail</td>\n      <td>5</td>\n      <td>KG</td>\n      <td>3</td>\n      <td>2014</td>\n      <td>6.0014</td>\n    </tr>\n    <tr>\n      <th>7</th>\n      <td>National Average</td>\n      <td>52</td>\n      <td>Rice - Retail</td>\n      <td>5</td>\n      <td>KG</td>\n      <td>5</td>\n      <td>2014</td>\n      <td>6.3202</td>\n    </tr>\n  </tbody>\n</table>\n</div>"
          },
          "metadata": {}
        }
      ]
    },
    {
      "cell_type": "code",
      "source": "# Truy cập các dòng rời rạc của dữ liệu\ntg = df.iloc[[3,5,7]]\ntg",
      "metadata": {
        "trusted": true
      },
      "execution_count": 5,
      "outputs": [
        {
          "execution_count": 5,
          "output_type": "execute_result",
          "data": {
            "text/plain": "              Place  ProductId    ProductName  UmId UmName  Month  Year  \\\n3  National Average         52  Rice - Retail     5     KG     12  2013   \n5  National Average         52  Rice - Retail     5     KG      2  2014   \n7  National Average         52  Rice - Retail     5     KG      5  2014   \n\n    Price  \n3  5.1337  \n5  5.8146  \n7  6.3202  ",
            "text/html": "<div>\n<style scoped>\n    .dataframe tbody tr th:only-of-type {\n        vertical-align: middle;\n    }\n\n    .dataframe tbody tr th {\n        vertical-align: top;\n    }\n\n    .dataframe thead th {\n        text-align: right;\n    }\n</style>\n<table border=\"1\" class=\"dataframe\">\n  <thead>\n    <tr style=\"text-align: right;\">\n      <th></th>\n      <th>Place</th>\n      <th>ProductId</th>\n      <th>ProductName</th>\n      <th>UmId</th>\n      <th>UmName</th>\n      <th>Month</th>\n      <th>Year</th>\n      <th>Price</th>\n    </tr>\n  </thead>\n  <tbody>\n    <tr>\n      <th>3</th>\n      <td>National Average</td>\n      <td>52</td>\n      <td>Rice - Retail</td>\n      <td>5</td>\n      <td>KG</td>\n      <td>12</td>\n      <td>2013</td>\n      <td>5.1337</td>\n    </tr>\n    <tr>\n      <th>5</th>\n      <td>National Average</td>\n      <td>52</td>\n      <td>Rice - Retail</td>\n      <td>5</td>\n      <td>KG</td>\n      <td>2</td>\n      <td>2014</td>\n      <td>5.8146</td>\n    </tr>\n    <tr>\n      <th>7</th>\n      <td>National Average</td>\n      <td>52</td>\n      <td>Rice - Retail</td>\n      <td>5</td>\n      <td>KG</td>\n      <td>5</td>\n      <td>2014</td>\n      <td>6.3202</td>\n    </tr>\n  </tbody>\n</table>\n</div>"
          },
          "metadata": {}
        }
      ]
    },
    {
      "cell_type": "code",
      "source": "#Truy cập cột thứ 4 của dữ liệu\n# : được sử dụng để đại diện cho tất cả các dòng.\ntg = df.iloc[:,4]\ntg",
      "metadata": {
        "trusted": true
      },
      "execution_count": 6,
      "outputs": [
        {
          "execution_count": 6,
          "output_type": "execute_result",
          "data": {
            "text/plain": "0       KG\n1       KG\n2       KG\n3       KG\n4       KG\n        ..\n7376    KG\n7377    KG\n7378    KG\n7379    KG\n7380    KG\nName: UmName, Length: 7381, dtype: object"
          },
          "metadata": {}
        }
      ]
    },
    {
      "cell_type": "code",
      "source": "# Truy cập các cột liên tục từ cột 3 tới cột 8 của dữ liệu\ntg = df.iloc[:,3:8]\ntg",
      "metadata": {
        "trusted": true
      },
      "execution_count": 7,
      "outputs": [
        {
          "execution_count": 7,
          "output_type": "execute_result",
          "data": {
            "text/plain": "      UmId UmName  Month  Year    Price\n0        5     KG      5  2013   4.4920\n1        5     KG      6  2013   4.5786\n2        5     KG     11  2013   4.7865\n3        5     KG     12  2013   5.1337\n4        5     KG      1  2014   5.5099\n...    ...    ...    ...   ...      ...\n7376     5     KG      8  2019  47.9040\n7377     5     KG      9  2019  49.1176\n7378     5     KG     10  2019  50.8347\n7379     5     KG     11  2019  51.7985\n7380     5     KG     12  2019  51.6071\n\n[7381 rows x 5 columns]",
            "text/html": "<div>\n<style scoped>\n    .dataframe tbody tr th:only-of-type {\n        vertical-align: middle;\n    }\n\n    .dataframe tbody tr th {\n        vertical-align: top;\n    }\n\n    .dataframe thead th {\n        text-align: right;\n    }\n</style>\n<table border=\"1\" class=\"dataframe\">\n  <thead>\n    <tr style=\"text-align: right;\">\n      <th></th>\n      <th>UmId</th>\n      <th>UmName</th>\n      <th>Month</th>\n      <th>Year</th>\n      <th>Price</th>\n    </tr>\n  </thead>\n  <tbody>\n    <tr>\n      <th>0</th>\n      <td>5</td>\n      <td>KG</td>\n      <td>5</td>\n      <td>2013</td>\n      <td>4.4920</td>\n    </tr>\n    <tr>\n      <th>1</th>\n      <td>5</td>\n      <td>KG</td>\n      <td>6</td>\n      <td>2013</td>\n      <td>4.5786</td>\n    </tr>\n    <tr>\n      <th>2</th>\n      <td>5</td>\n      <td>KG</td>\n      <td>11</td>\n      <td>2013</td>\n      <td>4.7865</td>\n    </tr>\n    <tr>\n      <th>3</th>\n      <td>5</td>\n      <td>KG</td>\n      <td>12</td>\n      <td>2013</td>\n      <td>5.1337</td>\n    </tr>\n    <tr>\n      <th>4</th>\n      <td>5</td>\n      <td>KG</td>\n      <td>1</td>\n      <td>2014</td>\n      <td>5.5099</td>\n    </tr>\n    <tr>\n      <th>...</th>\n      <td>...</td>\n      <td>...</td>\n      <td>...</td>\n      <td>...</td>\n      <td>...</td>\n    </tr>\n    <tr>\n      <th>7376</th>\n      <td>5</td>\n      <td>KG</td>\n      <td>8</td>\n      <td>2019</td>\n      <td>47.9040</td>\n    </tr>\n    <tr>\n      <th>7377</th>\n      <td>5</td>\n      <td>KG</td>\n      <td>9</td>\n      <td>2019</td>\n      <td>49.1176</td>\n    </tr>\n    <tr>\n      <th>7378</th>\n      <td>5</td>\n      <td>KG</td>\n      <td>10</td>\n      <td>2019</td>\n      <td>50.8347</td>\n    </tr>\n    <tr>\n      <th>7379</th>\n      <td>5</td>\n      <td>KG</td>\n      <td>11</td>\n      <td>2019</td>\n      <td>51.7985</td>\n    </tr>\n    <tr>\n      <th>7380</th>\n      <td>5</td>\n      <td>KG</td>\n      <td>12</td>\n      <td>2019</td>\n      <td>51.6071</td>\n    </tr>\n  </tbody>\n</table>\n<p>7381 rows × 5 columns</p>\n</div>"
          },
          "metadata": {}
        }
      ]
    },
    {
      "cell_type": "code",
      "source": "# Truy cập tới phần tử tại dòng 3 cột 7 của dữ liệu\ntg = df.iloc[3,7]\ntg",
      "metadata": {
        "trusted": true
      },
      "execution_count": 8,
      "outputs": [
        {
          "execution_count": 8,
          "output_type": "execute_result",
          "data": {
            "text/plain": "5.1337"
          },
          "metadata": {}
        }
      ]
    },
    {
      "cell_type": "code",
      "source": "# Truy cập tới các phần tử từ dòng 3 đến dòng 4, cột 5 đến cột 6 của dữ liệu\ntg = df.iloc[3:5,5:7]\ntg",
      "metadata": {},
      "execution_count": null,
      "outputs": []
    },
    {
      "cell_type": "code",
      "source": "#3. Sử dụng phương thức loc để truy cập dữ liệuloc có thể làm việc được với chỉ số hàng, tên cột và các biểu thức điều kiện của cột\n# Truy cập dòng có chỉ số 3 của dữ liệu\ntg = df.loc[3]\ntg",
      "metadata": {
        "trusted": true
      },
      "execution_count": 10,
      "outputs": [
        {
          "execution_count": 10,
          "output_type": "execute_result",
          "data": {
            "text/plain": "Place          National Average\nProductId                    52\nProductName       Rice - Retail\nUmId                          5\nUmName                       KG\nMonth                        12\nYear                       2013\nPrice                    5.1337\nName: 3, dtype: object"
          },
          "metadata": {}
        }
      ]
    },
    {
      "cell_type": "code",
      "source": "# Truy cập cột thứ 4 của dữ liệu\ntg = df.loc[:,'UmName']\ntg",
      "metadata": {
        "trusted": true
      },
      "execution_count": 11,
      "outputs": [
        {
          "execution_count": 11,
          "output_type": "execute_result",
          "data": {
            "text/plain": "0       KG\n1       KG\n2       KG\n3       KG\n4       KG\n        ..\n7376    KG\n7377    KG\n7378    KG\n7379    KG\n7380    KG\nName: UmName, Length: 7381, dtype: object"
          },
          "metadata": {}
        }
      ]
    },
    {
      "cell_type": "code",
      "source": "# Truy cập cột thứ 4,5 của dữ liệu\ntg = df.loc[:,['UmName','Month']]\ntg",
      "metadata": {
        "trusted": true
      },
      "execution_count": 12,
      "outputs": [
        {
          "execution_count": 12,
          "output_type": "execute_result",
          "data": {
            "text/plain": "     UmName  Month\n0        KG      5\n1        KG      6\n2        KG     11\n3        KG     12\n4        KG      1\n...     ...    ...\n7376     KG      8\n7377     KG      9\n7378     KG     10\n7379     KG     11\n7380     KG     12\n\n[7381 rows x 2 columns]",
            "text/html": "<div>\n<style scoped>\n    .dataframe tbody tr th:only-of-type {\n        vertical-align: middle;\n    }\n\n    .dataframe tbody tr th {\n        vertical-align: top;\n    }\n\n    .dataframe thead th {\n        text-align: right;\n    }\n</style>\n<table border=\"1\" class=\"dataframe\">\n  <thead>\n    <tr style=\"text-align: right;\">\n      <th></th>\n      <th>UmName</th>\n      <th>Month</th>\n    </tr>\n  </thead>\n  <tbody>\n    <tr>\n      <th>0</th>\n      <td>KG</td>\n      <td>5</td>\n    </tr>\n    <tr>\n      <th>1</th>\n      <td>KG</td>\n      <td>6</td>\n    </tr>\n    <tr>\n      <th>2</th>\n      <td>KG</td>\n      <td>11</td>\n    </tr>\n    <tr>\n      <th>3</th>\n      <td>KG</td>\n      <td>12</td>\n    </tr>\n    <tr>\n      <th>4</th>\n      <td>KG</td>\n      <td>1</td>\n    </tr>\n    <tr>\n      <th>...</th>\n      <td>...</td>\n      <td>...</td>\n    </tr>\n    <tr>\n      <th>7376</th>\n      <td>KG</td>\n      <td>8</td>\n    </tr>\n    <tr>\n      <th>7377</th>\n      <td>KG</td>\n      <td>9</td>\n    </tr>\n    <tr>\n      <th>7378</th>\n      <td>KG</td>\n      <td>10</td>\n    </tr>\n    <tr>\n      <th>7379</th>\n      <td>KG</td>\n      <td>11</td>\n    </tr>\n    <tr>\n      <th>7380</th>\n      <td>KG</td>\n      <td>12</td>\n    </tr>\n  </tbody>\n</table>\n<p>7381 rows × 2 columns</p>\n</div>"
          },
          "metadata": {}
        }
      ]
    },
    {
      "cell_type": "code",
      "source": "# Truy cập tới phần tử tại dòng 3 cột 7 của dữ liệu\ntg = df.loc[3,'Price']\ntg",
      "metadata": {
        "trusted": true
      },
      "execution_count": 13,
      "outputs": [
        {
          "execution_count": 13,
          "output_type": "execute_result",
          "data": {
            "text/plain": "5.1337"
          },
          "metadata": {}
        }
      ]
    },
    {
      "cell_type": "code",
      "source": "# Truy cập tới phần tử có Year >=2019\ntg = df.loc[df.Year >= 2019]\ntg",
      "metadata": {
        "trusted": true
      },
      "execution_count": 14,
      "outputs": [
        {
          "execution_count": 14,
          "output_type": "execute_result",
          "data": {
            "text/plain": "                 Place  ProductId              ProductName  UmId UmName  \\\n54    National Average         52            Rice - Retail     5     KG   \n55    National Average         52            Rice - Retail     5     KG   \n56    National Average         52            Rice - Retail     5     KG   \n57    National Average         52            Rice - Retail     5     KG   \n58    National Average         52            Rice - Retail     5     KG   \n...                ...        ...                      ...   ...    ...   \n7376             Izmir        502  Cocoa (powder) - Retail     5     KG   \n7377             Izmir        502  Cocoa (powder) - Retail     5     KG   \n7378             Izmir        502  Cocoa (powder) - Retail     5     KG   \n7379             Izmir        502  Cocoa (powder) - Retail     5     KG   \n7380             Izmir        502  Cocoa (powder) - Retail     5     KG   \n\n      Month  Year    Price  \n54        1  2019   8.4275  \n55        2  2019   8.7656  \n56        3  2019   8.8101  \n57        4  2019   8.9266  \n58        5  2019   9.1866  \n...     ...   ...      ...  \n7376      8  2019  47.9040  \n7377      9  2019  49.1176  \n7378     10  2019  50.8347  \n7379     11  2019  51.7985  \n7380     12  2019  51.6071  \n\n[2124 rows x 8 columns]",
            "text/html": "<div>\n<style scoped>\n    .dataframe tbody tr th:only-of-type {\n        vertical-align: middle;\n    }\n\n    .dataframe tbody tr th {\n        vertical-align: top;\n    }\n\n    .dataframe thead th {\n        text-align: right;\n    }\n</style>\n<table border=\"1\" class=\"dataframe\">\n  <thead>\n    <tr style=\"text-align: right;\">\n      <th></th>\n      <th>Place</th>\n      <th>ProductId</th>\n      <th>ProductName</th>\n      <th>UmId</th>\n      <th>UmName</th>\n      <th>Month</th>\n      <th>Year</th>\n      <th>Price</th>\n    </tr>\n  </thead>\n  <tbody>\n    <tr>\n      <th>54</th>\n      <td>National Average</td>\n      <td>52</td>\n      <td>Rice - Retail</td>\n      <td>5</td>\n      <td>KG</td>\n      <td>1</td>\n      <td>2019</td>\n      <td>8.4275</td>\n    </tr>\n    <tr>\n      <th>55</th>\n      <td>National Average</td>\n      <td>52</td>\n      <td>Rice - Retail</td>\n      <td>5</td>\n      <td>KG</td>\n      <td>2</td>\n      <td>2019</td>\n      <td>8.7656</td>\n    </tr>\n    <tr>\n      <th>56</th>\n      <td>National Average</td>\n      <td>52</td>\n      <td>Rice - Retail</td>\n      <td>5</td>\n      <td>KG</td>\n      <td>3</td>\n      <td>2019</td>\n      <td>8.8101</td>\n    </tr>\n    <tr>\n      <th>57</th>\n      <td>National Average</td>\n      <td>52</td>\n      <td>Rice - Retail</td>\n      <td>5</td>\n      <td>KG</td>\n      <td>4</td>\n      <td>2019</td>\n      <td>8.9266</td>\n    </tr>\n    <tr>\n      <th>58</th>\n      <td>National Average</td>\n      <td>52</td>\n      <td>Rice - Retail</td>\n      <td>5</td>\n      <td>KG</td>\n      <td>5</td>\n      <td>2019</td>\n      <td>9.1866</td>\n    </tr>\n    <tr>\n      <th>...</th>\n      <td>...</td>\n      <td>...</td>\n      <td>...</td>\n      <td>...</td>\n      <td>...</td>\n      <td>...</td>\n      <td>...</td>\n      <td>...</td>\n    </tr>\n    <tr>\n      <th>7376</th>\n      <td>Izmir</td>\n      <td>502</td>\n      <td>Cocoa (powder) - Retail</td>\n      <td>5</td>\n      <td>KG</td>\n      <td>8</td>\n      <td>2019</td>\n      <td>47.9040</td>\n    </tr>\n    <tr>\n      <th>7377</th>\n      <td>Izmir</td>\n      <td>502</td>\n      <td>Cocoa (powder) - Retail</td>\n      <td>5</td>\n      <td>KG</td>\n      <td>9</td>\n      <td>2019</td>\n      <td>49.1176</td>\n    </tr>\n    <tr>\n      <th>7378</th>\n      <td>Izmir</td>\n      <td>502</td>\n      <td>Cocoa (powder) - Retail</td>\n      <td>5</td>\n      <td>KG</td>\n      <td>10</td>\n      <td>2019</td>\n      <td>50.8347</td>\n    </tr>\n    <tr>\n      <th>7379</th>\n      <td>Izmir</td>\n      <td>502</td>\n      <td>Cocoa (powder) - Retail</td>\n      <td>5</td>\n      <td>KG</td>\n      <td>11</td>\n      <td>2019</td>\n      <td>51.7985</td>\n    </tr>\n    <tr>\n      <th>7380</th>\n      <td>Izmir</td>\n      <td>502</td>\n      <td>Cocoa (powder) - Retail</td>\n      <td>5</td>\n      <td>KG</td>\n      <td>12</td>\n      <td>2019</td>\n      <td>51.6071</td>\n    </tr>\n  </tbody>\n</table>\n<p>2124 rows × 8 columns</p>\n</div>"
          },
          "metadata": {}
        }
      ]
    },
    {
      "cell_type": "code",
      "source": "#Thay thế các giá trị trong DataFrame\n# Thay số 5 bằng số 10 trong toàn bộ dữ liệu\ndf.replace(5,10,inplace = True)\ndf.head()",
      "metadata": {
        "trusted": true
      },
      "execution_count": 15,
      "outputs": [
        {
          "execution_count": 15,
          "output_type": "execute_result",
          "data": {
            "text/plain": "              Place  ProductId    ProductName  UmId UmName  Month  Year  \\\n0  National Average         52  Rice - Retail    10     KG     10  2013   \n1  National Average         52  Rice - Retail    10     KG      6  2013   \n2  National Average         52  Rice - Retail    10     KG     11  2013   \n3  National Average         52  Rice - Retail    10     KG     12  2013   \n4  National Average         52  Rice - Retail    10     KG      1  2014   \n\n    Price  \n0  4.4920  \n1  4.5786  \n2  4.7865  \n3  5.1337  \n4  5.5099  ",
            "text/html": "<div>\n<style scoped>\n    .dataframe tbody tr th:only-of-type {\n        vertical-align: middle;\n    }\n\n    .dataframe tbody tr th {\n        vertical-align: top;\n    }\n\n    .dataframe thead th {\n        text-align: right;\n    }\n</style>\n<table border=\"1\" class=\"dataframe\">\n  <thead>\n    <tr style=\"text-align: right;\">\n      <th></th>\n      <th>Place</th>\n      <th>ProductId</th>\n      <th>ProductName</th>\n      <th>UmId</th>\n      <th>UmName</th>\n      <th>Month</th>\n      <th>Year</th>\n      <th>Price</th>\n    </tr>\n  </thead>\n  <tbody>\n    <tr>\n      <th>0</th>\n      <td>National Average</td>\n      <td>52</td>\n      <td>Rice - Retail</td>\n      <td>10</td>\n      <td>KG</td>\n      <td>10</td>\n      <td>2013</td>\n      <td>4.4920</td>\n    </tr>\n    <tr>\n      <th>1</th>\n      <td>National Average</td>\n      <td>52</td>\n      <td>Rice - Retail</td>\n      <td>10</td>\n      <td>KG</td>\n      <td>6</td>\n      <td>2013</td>\n      <td>4.5786</td>\n    </tr>\n    <tr>\n      <th>2</th>\n      <td>National Average</td>\n      <td>52</td>\n      <td>Rice - Retail</td>\n      <td>10</td>\n      <td>KG</td>\n      <td>11</td>\n      <td>2013</td>\n      <td>4.7865</td>\n    </tr>\n    <tr>\n      <th>3</th>\n      <td>National Average</td>\n      <td>52</td>\n      <td>Rice - Retail</td>\n      <td>10</td>\n      <td>KG</td>\n      <td>12</td>\n      <td>2013</td>\n      <td>5.1337</td>\n    </tr>\n    <tr>\n      <th>4</th>\n      <td>National Average</td>\n      <td>52</td>\n      <td>Rice - Retail</td>\n      <td>10</td>\n      <td>KG</td>\n      <td>1</td>\n      <td>2014</td>\n      <td>5.5099</td>\n    </tr>\n  </tbody>\n</table>\n</div>"
          },
          "metadata": {}
        }
      ]
    },
    {
      "cell_type": "code",
      "source": "# Thay mã sản phẩm từ giá trị 52 thành RR trong toàn bộ dữ liệu\n# RR là chuỗi ký tự nên được để trong cặp dấu nháy đơn\ndf.replace(52,'RR',inplace = True)\ndf.head()",
      "metadata": {
        "trusted": true
      },
      "execution_count": 16,
      "outputs": [
        {
          "execution_count": 16,
          "output_type": "execute_result",
          "data": {
            "text/plain": "              Place ProductId    ProductName  UmId UmName  Month  Year   Price\n0  National Average        RR  Rice - Retail    10     KG     10  2013  4.4920\n1  National Average        RR  Rice - Retail    10     KG      6  2013  4.5786\n2  National Average        RR  Rice - Retail    10     KG     11  2013  4.7865\n3  National Average        RR  Rice - Retail    10     KG     12  2013  5.1337\n4  National Average        RR  Rice - Retail    10     KG      1  2014  5.5099",
            "text/html": "<div>\n<style scoped>\n    .dataframe tbody tr th:only-of-type {\n        vertical-align: middle;\n    }\n\n    .dataframe tbody tr th {\n        vertical-align: top;\n    }\n\n    .dataframe thead th {\n        text-align: right;\n    }\n</style>\n<table border=\"1\" class=\"dataframe\">\n  <thead>\n    <tr style=\"text-align: right;\">\n      <th></th>\n      <th>Place</th>\n      <th>ProductId</th>\n      <th>ProductName</th>\n      <th>UmId</th>\n      <th>UmName</th>\n      <th>Month</th>\n      <th>Year</th>\n      <th>Price</th>\n    </tr>\n  </thead>\n  <tbody>\n    <tr>\n      <th>0</th>\n      <td>National Average</td>\n      <td>RR</td>\n      <td>Rice - Retail</td>\n      <td>10</td>\n      <td>KG</td>\n      <td>10</td>\n      <td>2013</td>\n      <td>4.4920</td>\n    </tr>\n    <tr>\n      <th>1</th>\n      <td>National Average</td>\n      <td>RR</td>\n      <td>Rice - Retail</td>\n      <td>10</td>\n      <td>KG</td>\n      <td>6</td>\n      <td>2013</td>\n      <td>4.5786</td>\n    </tr>\n    <tr>\n      <th>2</th>\n      <td>National Average</td>\n      <td>RR</td>\n      <td>Rice - Retail</td>\n      <td>10</td>\n      <td>KG</td>\n      <td>11</td>\n      <td>2013</td>\n      <td>4.7865</td>\n    </tr>\n    <tr>\n      <th>3</th>\n      <td>National Average</td>\n      <td>RR</td>\n      <td>Rice - Retail</td>\n      <td>10</td>\n      <td>KG</td>\n      <td>12</td>\n      <td>2013</td>\n      <td>5.1337</td>\n    </tr>\n    <tr>\n      <th>4</th>\n      <td>National Average</td>\n      <td>RR</td>\n      <td>Rice - Retail</td>\n      <td>10</td>\n      <td>KG</td>\n      <td>1</td>\n      <td>2014</td>\n      <td>5.5099</td>\n    </tr>\n  </tbody>\n</table>\n</div>"
          },
          "metadata": {}
        }
      ]
    },
    {
      "cell_type": "code",
      "source": "# Thay giá trị 10 trong cột Month thành giá trị 5\ndf['Month'].replace(10,5,inplace = True)\ndf.head()\n",
      "metadata": {
        "trusted": true
      },
      "execution_count": 17,
      "outputs": [
        {
          "execution_count": 17,
          "output_type": "execute_result",
          "data": {
            "text/plain": "              Place ProductId    ProductName  UmId UmName  Month  Year   Price\n0  National Average        RR  Rice - Retail    10     KG      5  2013  4.4920\n1  National Average        RR  Rice - Retail    10     KG      6  2013  4.5786\n2  National Average        RR  Rice - Retail    10     KG     11  2013  4.7865\n3  National Average        RR  Rice - Retail    10     KG     12  2013  5.1337\n4  National Average        RR  Rice - Retail    10     KG      1  2014  5.5099",
            "text/html": "<div>\n<style scoped>\n    .dataframe tbody tr th:only-of-type {\n        vertical-align: middle;\n    }\n\n    .dataframe tbody tr th {\n        vertical-align: top;\n    }\n\n    .dataframe thead th {\n        text-align: right;\n    }\n</style>\n<table border=\"1\" class=\"dataframe\">\n  <thead>\n    <tr style=\"text-align: right;\">\n      <th></th>\n      <th>Place</th>\n      <th>ProductId</th>\n      <th>ProductName</th>\n      <th>UmId</th>\n      <th>UmName</th>\n      <th>Month</th>\n      <th>Year</th>\n      <th>Price</th>\n    </tr>\n  </thead>\n  <tbody>\n    <tr>\n      <th>0</th>\n      <td>National Average</td>\n      <td>RR</td>\n      <td>Rice - Retail</td>\n      <td>10</td>\n      <td>KG</td>\n      <td>5</td>\n      <td>2013</td>\n      <td>4.4920</td>\n    </tr>\n    <tr>\n      <th>1</th>\n      <td>National Average</td>\n      <td>RR</td>\n      <td>Rice - Retail</td>\n      <td>10</td>\n      <td>KG</td>\n      <td>6</td>\n      <td>2013</td>\n      <td>4.5786</td>\n    </tr>\n    <tr>\n      <th>2</th>\n      <td>National Average</td>\n      <td>RR</td>\n      <td>Rice - Retail</td>\n      <td>10</td>\n      <td>KG</td>\n      <td>11</td>\n      <td>2013</td>\n      <td>4.7865</td>\n    </tr>\n    <tr>\n      <th>3</th>\n      <td>National Average</td>\n      <td>RR</td>\n      <td>Rice - Retail</td>\n      <td>10</td>\n      <td>KG</td>\n      <td>12</td>\n      <td>2013</td>\n      <td>5.1337</td>\n    </tr>\n    <tr>\n      <th>4</th>\n      <td>National Average</td>\n      <td>RR</td>\n      <td>Rice - Retail</td>\n      <td>10</td>\n      <td>KG</td>\n      <td>1</td>\n      <td>2014</td>\n      <td>5.5099</td>\n    </tr>\n  </tbody>\n</table>\n</div>"
          },
          "metadata": {}
        }
      ]
    }
  ]
}